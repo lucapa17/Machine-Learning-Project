{
  "nbformat": 4,
  "nbformat_minor": 0,
  "metadata": {
    "colab": {
      "provenance": [],
      "include_colab_link": true
    },
    "kernelspec": {
      "name": "python3",
      "display_name": "Python 3"
    },
    "language_info": {
      "name": "python"
    },
    "gpuClass": "standard"
  },
  "cells": [
    {
      "cell_type": "markdown",
      "metadata": {
        "id": "view-in-github",
        "colab_type": "text"
      },
      "source": [
        "<a href=\"https://colab.research.google.com/github/lucapa17/Machine-Learning-Project/blob/main/project.ipynb\" target=\"_parent\"><img src=\"https://colab.research.google.com/assets/colab-badge.svg\" alt=\"Open In Colab\"/></a>"
      ]
    },
    {
      "cell_type": "markdown",
      "source": [
        "Dataset\n",
        "\n",
        "https://www.kaggle.com/datasets/kyr7plus/emg-4\n"
      ],
      "metadata": {
        "id": "l4zEmvBDdA0f"
      }
    },
    {
      "cell_type": "code",
      "source": [
        "import pandas as pd\n",
        "import numpy as np\n",
        "from sklearn import preprocessing\n",
        "from random import sample\n",
        "from sklearn.model_selection import GridSearchCV\n",
        "from sklearn.metrics import confusion_matrix\n",
        "from sklearn.multiclass import OneVsRestClassifier\n",
        "\n"
      ],
      "metadata": {
        "id": "6rqLiNFnfUql"
      },
      "execution_count": null,
      "outputs": []
    },
    {
      "cell_type": "code",
      "source": [
        "folder = 'drive/MyDrive/project_ML/'\n",
        "nl = 500\n",
        "nt = 200\n",
        "for i in range(0,4):\n",
        "  file = folder + '%d.csv' %i\n",
        "  D = pd.read_csv(file).to_numpy()\n",
        "  D = np.delete(D, 64, 1)     \n",
        "  j = sample(range(D.shape[0]),nl+nt)\n",
        "  D = D[j,:]\n",
        "  if (i == 0):\n",
        "    XL = D[range(0,nl),:]\n",
        "    YL = i*np.ones(nl) \n",
        "    XT = D[range(nl,nl+nt),:]\n",
        "    YT = i*np.ones(nt)\n",
        "  else:\n",
        "    XL = np.concatenate((XL,D[range(0,nl),:]),axis=0)\n",
        "    YL = np.append(YL,i*np.ones(nl))\n",
        "    XT = np.concatenate((XT,D[range(nl,nl+nt),:]),axis=0)\n",
        "    YT = np.append(YT,i*np.ones(nt))\n"
      ],
      "metadata": {
        "id": "383-Z0QErtPI"
      },
      "execution_count": null,
      "outputs": []
    },
    {
      "cell_type": "code",
      "source": [
        "# Normalization of the data\n",
        "scalerX = preprocessing.MinMaxScaler()\n",
        "XL = scalerX.fit_transform(XL)\n",
        "XT = scalerX.transform(XT)"
      ],
      "metadata": {
        "id": "axLVulJFukCa"
      },
      "execution_count": null,
      "outputs": []
    },
    {
      "cell_type": "code",
      "source": [
        "# KRR\n",
        "from sklearn.kernel_ridge import KernelRidge\n",
        "\n",
        "param_grid = {'estimator__kernel': ['linear', 'poly', 'rbf'],\n",
        "              'estimator__alpha': np.logspace(-4,3,5),\n",
        "              'estimator__gamma': np.logspace(-4,3,5)}\n",
        "\n",
        "grid_search = GridSearchCV(OneVsRestClassifier(KernelRidge()),\n",
        "                           param_grid,\n",
        "                           scoring = 'balanced_accuracy',\n",
        "                           cv=10,\n",
        "                           verbose=0)\n",
        "grid_search.fit(XL, YL)\n",
        "\n",
        "print(\"Best model:\", grid_search.best_estimator_)\n",
        "\n",
        "YP = grid_search.predict(XT)\n",
        "\n",
        "accuracy = np.mean(YP == YT)\n",
        "print(accuracy)\n",
        "confusion_matrix(YT,YP)"
      ],
      "metadata": {
        "id": "XNrB-_IepMEY",
        "colab": {
          "base_uri": "https://localhost:8080/"
        },
        "outputId": "d3a03d08-6a2a-4d60-8d7b-496e5a3e2186"
      },
      "execution_count": null,
      "outputs": [
        {
          "output_type": "stream",
          "name": "stdout",
          "text": [
            "Best model: OneVsRestClassifier(estimator=KernelRidge(alpha=0.005623413251903491,\n",
            "                                          gamma=0.31622776601683794,\n",
            "                                          kernel='rbf'))\n",
            "0.81125\n"
          ]
        },
        {
          "output_type": "execute_result",
          "data": {
            "text/plain": [
              "array([[154,  16,  16,  14],\n",
              "       [  0, 193,   2,   5],\n",
              "       [  4,  23, 131,  42],\n",
              "       [  5,  19,   5, 171]])"
            ]
          },
          "metadata": {},
          "execution_count": 23
        }
      ]
    },
    {
      "cell_type": "code",
      "source": [
        "# SVC\n",
        "\n",
        "from sklearn.svm import SVC\n",
        "\n",
        "param_grid = {'kernel': ['linear', 'poly', 'rbf'],\n",
        "              'C': np.logspace(-4,3,5),\n",
        "              'gamma': np.logspace(-4,3,5)}\n",
        "\n",
        "grid_search = GridSearchCV(estimator = SVC(),\n",
        "                          param_grid = param_grid,\n",
        "                          scoring = 'balanced_accuracy',\n",
        "                          cv = 10,\n",
        "                          verbose = 0)\n",
        "grid_search.fit(XL,YL)\n",
        "\n",
        "print(\"Best model:\", grid_search.best_params_)\n",
        "\n",
        "YP = grid_search.predict(XT)\n",
        "\n",
        "accuracy = np.mean(YP == YT)\n",
        "print(accuracy)\n",
        "confusion_matrix(YT,YP)"
      ],
      "metadata": {
        "id": "zti8mFd4s5dB",
        "colab": {
          "base_uri": "https://localhost:8080/"
        },
        "outputId": "337145ff-f794-470d-b6b6-7ec0ebf3c672"
      },
      "execution_count": null,
      "outputs": [
        {
          "output_type": "stream",
          "name": "stdout",
          "text": [
            "Best model: {'C': 1000.0, 'gamma': 0.31622776601683794, 'kernel': 'rbf'}\n",
            "0.82625\n"
          ]
        },
        {
          "output_type": "execute_result",
          "data": {
            "text/plain": [
              "array([[172,   6,  18,   4],\n",
              "       [  2, 182,   5,  11],\n",
              "       [  5,  15, 149,  31],\n",
              "       [  7,  13,  22, 158]])"
            ]
          },
          "metadata": {},
          "execution_count": 24
        }
      ]
    },
    {
      "cell_type": "code",
      "source": [
        "from google.colab import drive\n",
        "drive.mount('/content/drive')"
      ],
      "metadata": {
        "colab": {
          "base_uri": "https://localhost:8080/"
        },
        "id": "PqCHuT4Rs8kG",
        "outputId": "36cee322-abdf-415e-92ed-f53e81429e7a"
      },
      "execution_count": null,
      "outputs": [
        {
          "output_type": "stream",
          "name": "stdout",
          "text": [
            "Mounted at /content/drive\n"
          ]
        }
      ]
    },
    {
      "cell_type": "code",
      "source": [
        "# RANDOM FOREST\n",
        "\n",
        "from sklearn.ensemble import RandomForestClassifier\n",
        "\n",
        "M = RandomForestClassifier(n_estimators = 1000)\n",
        "M.fit(XL,YL)\n",
        "YP = M.predict(XT)\n",
        "\n",
        "accuracy = np.mean(YP == YT)\n",
        "print(accuracy)\n",
        "confusion_matrix(YT,YP)"
      ],
      "metadata": {
        "id": "O8y9se73x6J3",
        "colab": {
          "base_uri": "https://localhost:8080/"
        },
        "outputId": "8a1af292-f6eb-4839-e955-74d891ecc8f6"
      },
      "execution_count": null,
      "outputs": [
        {
          "output_type": "stream",
          "name": "stdout",
          "text": [
            "0.91875\n"
          ]
        },
        {
          "output_type": "execute_result",
          "data": {
            "text/plain": [
              "array([[194,   0,   1,   5],\n",
              "       [  0, 185,   7,   8],\n",
              "       [  4,   3, 184,   9],\n",
              "       [ 14,   9,   5, 172]])"
            ]
          },
          "metadata": {},
          "execution_count": 21
        }
      ]
    }
  ]
}